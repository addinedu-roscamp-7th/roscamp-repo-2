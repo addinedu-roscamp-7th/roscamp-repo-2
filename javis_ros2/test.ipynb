{
 "cells": [
  {
   "cell_type": "code",
   "execution_count": 6,
   "id": "4818cc76",
   "metadata": {},
   "outputs": [],
   "source": [
    "import sys\n",
    "import os\n",
    "import time\n",
    "\n",
    "from pymycobot.mycobot280 import MyCobot280\n",
    "\n",
    "# 로봇 연결 설정\n",
    "mc = MyCobot280('/dev/ttyUSB0', 1000000)"
   ]
  },
  {
   "cell_type": "code",
   "execution_count": 7,
   "id": "7712665c",
   "metadata": {},
   "outputs": [
    {
     "name": "stdout",
     "output_type": "stream",
     "text": [
      "[51.3, -79.6, 409.7, 88.98, 18.97, 76.92]\n"
     ]
    }
   ],
   "source": [
    "coords = mc.get_coords()\n",
    "print(coords)"
   ]
  },
  {
   "cell_type": "code",
   "execution_count": 9,
   "id": "f4ba0d0f",
   "metadata": {},
   "outputs": [
    {
     "name": "stdout",
     "output_type": "stream",
     "text": [
      "로봇을 초기 위치로 리셋합니다.\n",
      "리셋 완료\n"
     ]
    }
   ],
   "source": [
    "# 로봇을 초기 위치로 리셋\n",
    "initial_angles = [0, 0, 0, 0, 0, 0]\n",
    "speed = 50\n",
    "print(\"로봇을 초기 위치로 리셋합니다.\")\n",
    "mc.send_angles(initial_angles, speed)\n",
    "mc.set_gripper_value(100, speed) # 그리퍼 열기\n",
    "time.sleep(3) # 움직임이 완료될 때까지 대기\n",
    "print(\"리셋 완료\")"
   ]
  }
 ],
 "metadata": {
  "kernelspec": {
   "display_name": "stereo",
   "language": "python",
   "name": "python3"
  },
  "language_info": {
   "codemirror_mode": {
    "name": "ipython",
    "version": 3
   },
   "file_extension": ".py",
   "mimetype": "text/x-python",
   "name": "python",
   "nbconvert_exporter": "python",
   "pygments_lexer": "ipython3",
   "version": "3.12.11"
  }
 },
 "nbformat": 4,
 "nbformat_minor": 5
}
